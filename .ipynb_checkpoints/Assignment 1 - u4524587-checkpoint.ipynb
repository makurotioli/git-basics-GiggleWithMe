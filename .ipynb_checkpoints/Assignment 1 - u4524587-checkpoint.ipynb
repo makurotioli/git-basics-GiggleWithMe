{
 "cells": [
  {
   "cell_type": "markdown",
   "id": "82607cdf",
   "metadata": {},
   "source": [
    "# First heading\n",
    "## Then another\n",
    "### Finally a smaller header\n",
    "Then some text with $in line math \\delta\\alpha$\n",
    ">\"Quote\"\n",
    "    -Kai Wakerman Powell"
   ]
  },
  {
   "cell_type": "code",
   "execution_count": 1,
   "id": "bfc852b4",
   "metadata": {},
   "outputs": [
    {
     "data": {
      "text/plain": [
       "2"
      ]
     },
     "execution_count": 1,
     "metadata": {},
     "output_type": "execute_result"
    }
   ],
   "source": [
    "1+1"
   ]
  },
  {
   "cell_type": "code",
   "execution_count": 2,
   "id": "f99b6de7",
   "metadata": {},
   "outputs": [
    {
     "name": "stdout",
     "output_type": "stream",
     "text": [
      "Howdy Tim.\n"
     ]
    }
   ],
   "source": [
    "print(\"Howdy Tim.\")"
   ]
  },
  {
   "cell_type": "code",
   "execution_count": null,
   "id": "3a501ef5",
   "metadata": {},
   "outputs": [],
   "source": []
  },
  {
   "cell_type": "markdown",
   "id": "23e831c8",
   "metadata": {},
   "source": [
    "### What I would like to learn and get out of this class\n",
    "- Very keen to learn modelling dynamical models\n",
    "- I have zero interest in the sophisticated math, I don't feel like I need to know the formal definition of stable to undertand the actual meaning of stable\n",
    "- This might be my only chance to learn comptemporary CGE modelling. I don't know if I will ever use them, but I want to know how to construct them.\n",
    "- I am very concious of the time commitments of the class. It is difficult balancing full time work and study.\n",
    "- I am extremely concious of the in-person requirements of this course. I now work on the other side of Civic, so having to take 90 minutes of additional travel time twice a week is painful.\n",
    "- Keen to learn, not keen to score well in grades. I'm learning for interest. I have a good economics job, and no interest in further study, so the payoff for high marks is exactly zero.\n",
    "- I wont lie, I am more excited by this course than just about any other I have done lately. Thank you very much."
   ]
  },
  {
   "cell_type": "code",
   "execution_count": null,
   "id": "47e8e025",
   "metadata": {},
   "outputs": [],
   "source": []
  }
 ],
 "metadata": {
  "kernelspec": {
   "display_name": "Python 3 (ipykernel)",
   "language": "python",
   "name": "python3"
  },
  "language_info": {
   "codemirror_mode": {
    "name": "ipython",
    "version": 3
   },
   "file_extension": ".py",
   "mimetype": "text/x-python",
   "name": "python",
   "nbconvert_exporter": "python",
   "pygments_lexer": "ipython3",
   "version": "3.9.7"
  }
 },
 "nbformat": 4,
 "nbformat_minor": 5
}
